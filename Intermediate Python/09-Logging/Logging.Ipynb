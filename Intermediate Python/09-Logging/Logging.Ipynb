{
 "cells": [
  {
   "attachments": {},
   "cell_type": "markdown",
   "metadata": {},
   "source": [
    "# Logging In Python\n",
    "- This module defines functions and classes which implement a flexible event logging system for applications and libraries.\n",
    "- The key benefit of having the logging API provided by a standard library module is that all Python modules can participate in logging, so your application log can include your own messages integrated with messages from third-party modules.\n",
    "- It is a powerful built-in module so you can quickly add logging to your application by typing `import logging`."
   ]
  },
  {
   "attachments": {},
   "cell_type": "markdown",
   "metadata": {},
   "source": [
    "#### Log Level\n",
    "There are 5 different log levels indicating the serverity of events. By default, the system logs only events with level WARNING and above."
   ]
  },
  {
   "cell_type": "code",
   "execution_count": 1,
   "metadata": {},
   "outputs": [
    {
     "name": "stderr",
     "output_type": "stream",
     "text": [
      "WARNING:root:This is a warning message\n",
      "ERROR:root:This is an error message\n",
      "CRITICAL:root:This is a critical message\n"
     ]
    }
   ],
   "source": [
    "import logging\n",
    "logging.debug('This is a debug message')\n",
    "logging.info('This is an info message')\n",
    "logging.warning('This is a warning message')# Till here logging is default\n",
    "logging.error('This is an error message')\n",
    "logging.critical('This is a critical message')"
   ]
  },
  {
   "attachments": {},
   "cell_type": "markdown",
   "metadata": {},
   "source": [
    "#### Configuration\n",
    "With `basicConfig(**kwargs)` we can customize the root logger. The most common parameters are the level, the format, and the filename."
   ]
  },
  {
   "cell_type": "code",
   "execution_count": 2,
   "metadata": {},
   "outputs": [],
   "source": [
    "import logging\n",
    "logging.basicConfig(level=logging.DEBUG, format='%(asctime)s - %(name)s - %(levelname)s - %(message)s', datefmt='%m/%d/%Y %H:%M:%S')\n",
    "# Now also debug messages will get logged with a different format.\n",
    "logging.debug('Debug message')\n",
    "\n",
    "# This would log to a file instead of the console.\n",
    "# logging.basicConfig(level=logging.DEBUG, filename='app.log')"
   ]
  },
  {
   "attachments": {},
   "cell_type": "markdown",
   "metadata": {},
   "source": [
    "#### Logging in modules and logger hierarchy\n",
    "- Best practice in our application with multiple modules is to create an internal logger using the `__name__` global variable.\n",
    "- This will create a logger with the name of our module and ensures no name collisions.\n",
    "- The logging module creates a hierarchy of loggers, starting with the root logger, and adding the new logger to this hierarchy.\n",
    "- If we then import our module in another module, log messages can be associated with the correct module through the logger name. Note that changing the basicConfig of the root logger will also affect the log events of the other (lower) loggers in the hierarchy.\n",
    "\n"
   ]
  },
  {
   "cell_type": "code",
   "execution_count": null,
   "metadata": {},
   "outputs": [],
   "source": [
    "# helper.py\n",
    "# -------------------------------------\n",
    "import logging\n",
    "logger = logging.getLogger(__name__)\n",
    "logger.info('HELLO')\n",
    "\n",
    "# main.py\n",
    "# -------------------------------------\n",
    "import logging\n",
    "logging.basicConfig(level=logging.INFO, format='%(name)s - %(levelname)s - %(message)s')\n",
    "import helper\n",
    "\n",
    "# --> Output when running main.py\n",
    "# helper - INFO - HELLO"
   ]
  },
  {
   "attachments": {},
   "cell_type": "markdown",
   "metadata": {},
   "source": [
    "#### Propagation\n",
    "By default, all created loggers will pass the log events to the handlers of higher loggers, in addition to any handlers attached to the created logger. We can deactivate this by setting `propagate = False`. Sometimes when we wonder why you don't see log messages from another module, then this property may be the reason."
   ]
  },
  {
   "cell_type": "code",
   "execution_count": null,
   "metadata": {},
   "outputs": [],
   "source": [
    "# helper.py\n",
    "# -------------------------------------\n",
    "import logging\n",
    "logger = logging.getLogger(__name__)\n",
    "logger.propagate = False\n",
    "logger.info('HELLO')\n",
    "\n",
    "# main.py\n",
    "# -------------------------------------\n",
    "import logging\n",
    "logging.basicConfig(level=logging.INFO, format='%(name)s - %(levelname)s - %(message)s')\n",
    "import helper\n",
    "\n",
    "# --> No output when running main.py since the helper module logger does not propagate its messages to the root logger"
   ]
  }
 ],
 "metadata": {
  "kernelspec": {
   "display_name": "Python 3",
   "language": "python",
   "name": "python3"
  },
  "language_info": {
   "codemirror_mode": {
    "name": "ipython",
    "version": 3
   },
   "file_extension": ".py",
   "mimetype": "text/x-python",
   "name": "python",
   "nbconvert_exporter": "python",
   "pygments_lexer": "ipython3",
   "version": "3.8.9"
  },
  "orig_nbformat": 4
 },
 "nbformat": 4,
 "nbformat_minor": 2
}
