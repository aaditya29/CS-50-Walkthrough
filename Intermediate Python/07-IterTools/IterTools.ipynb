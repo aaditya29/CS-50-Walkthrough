{
 "cells": [
  {
   "attachments": {},
   "cell_type": "markdown",
   "metadata": {},
   "source": [
    "# Itertools In Python\n",
    "The Python `itertools` module is a collection of tools for handling iterators. Simply put, iterators are data types that can be used in a for loop. The most common iterator in Python is the list."
   ]
  },
  {
   "attachments": {},
   "cell_type": "markdown",
   "metadata": {},
   "source": [
    "#### product\n",
    "This tool computes the cartesian product of input iterables.<br>\n",
    "It is equivalent to nested for-loops. For example, product(A, B) returns the same as ((x,y) for x in A for y in B)."
   ]
  },
  {
   "cell_type": "code",
   "execution_count": 4,
   "metadata": {},
   "outputs": [
    {
     "name": "stdout",
     "output_type": "stream",
     "text": [
      "[(1, 3), (1, 4), (2, 3), (2, 4)]\n",
      "[(1, 3, 1, 3), (1, 3, 2, 3), (2, 3, 1, 3), (2, 3, 2, 3)]\n"
     ]
    }
   ],
   "source": [
    "from itertools import product\n",
    "\n",
    "prod = product([1, 2], [3, 4])\n",
    "print(list(prod)) # note that we convert the iterator to a list for printing\n",
    "\n",
    "# to allow the product of an iterable with itself, specify the number of repetitions \n",
    "prod = product([1, 2], [3], repeat=2)\n",
    "print(list(prod)) # note that we convert the iterator to a list for printing"
   ]
  },
  {
   "attachments": {},
   "cell_type": "markdown",
   "metadata": {},
   "source": [
    "#### permutations\n",
    "This tool returns successive length permutations of elements in an iterable, with all possible orderings, and no repeated elements."
   ]
  },
  {
   "cell_type": "code",
   "execution_count": 5,
   "metadata": {},
   "outputs": [
    {
     "name": "stdout",
     "output_type": "stream",
     "text": [
      "[(1, 2, 3), (1, 3, 2), (2, 1, 3), (2, 3, 1), (3, 1, 2), (3, 2, 1)]\n",
      "[(1, 2), (1, 3), (2, 1), (2, 3), (3, 1), (3, 2)]\n"
     ]
    }
   ],
   "source": [
    "from itertools import permutations\n",
    "\n",
    "perm = permutations([1, 2, 3])\n",
    "print(list(perm))\n",
    "\n",
    "# optional: the length of the permutation tuples\n",
    "perm = permutations([1, 2, 3], 2)\n",
    "print(list(perm))"
   ]
  },
  {
   "attachments": {},
   "cell_type": "markdown",
   "metadata": {},
   "source": [
    "#### combinations() and combinations_with_replacement()\n",
    "r-length tuples, in sorted order. So, if the input iterable is sorted, the combination tuples will be produced in sorted order.<br>\n",
    "`combinations()` does not allow repeated elements, but `combinations_with_replacement()` does."
   ]
  },
  {
   "cell_type": "code",
   "execution_count": 6,
   "metadata": {},
   "outputs": [
    {
     "name": "stdout",
     "output_type": "stream",
     "text": [
      "[(1, 2), (1, 3), (1, 4), (2, 3), (2, 4), (3, 4)]\n",
      "[(1, 1), (1, 2), (1, 3), (1, 4), (2, 2), (2, 3), (2, 4), (3, 3), (3, 4), (4, 4)]\n"
     ]
    }
   ],
   "source": [
    "from itertools import combinations, combinations_with_replacement\n",
    "\n",
    "# the second argument is mandatory and specifies the length of the output tuples.\n",
    "comb = combinations([1, 2, 3, 4], 2)\n",
    "print(list(comb))\n",
    "\n",
    "comb = combinations_with_replacement([1, 2, 3, 4], 2)\n",
    "print(list(comb))"
   ]
  },
  {
   "attachments": {},
   "cell_type": "markdown",
   "metadata": {},
   "source": [
    "#### accumulate\n",
    "Make an iterator that returns accumulated sums, or accumulated results of other binary functions."
   ]
  },
  {
   "cell_type": "code",
   "execution_count": 7,
   "metadata": {},
   "outputs": [
    {
     "name": "stdout",
     "output_type": "stream",
     "text": [
      "[1, 3, 6, 10]\n",
      "[1, 2, 6, 24]\n",
      "[1, 5, 5, 6, 6, 6]\n"
     ]
    }
   ],
   "source": [
    "from itertools import accumulate\n",
    "\n",
    "# return accumulated sums\n",
    "acc = accumulate([1,2,3,4])\n",
    "print(list(acc))\n",
    "\n",
    "# other possible functions are possible\n",
    "import operator\n",
    "acc = accumulate([1,2,3,4], func=operator.mul)\n",
    "print(list(acc))\n",
    "\n",
    "acc = accumulate([1,5,2,6,3,4], func=max)\n",
    "print(list(acc))"
   ]
  }
 ],
 "metadata": {
  "kernelspec": {
   "display_name": "Python 3",
   "language": "python",
   "name": "python3"
  },
  "language_info": {
   "codemirror_mode": {
    "name": "ipython",
    "version": 3
   },
   "file_extension": ".py",
   "mimetype": "text/x-python",
   "name": "python",
   "nbconvert_exporter": "python",
   "pygments_lexer": "ipython3",
   "version": "3.8.9"
  },
  "orig_nbformat": 4
 },
 "nbformat": 4,
 "nbformat_minor": 2
}
