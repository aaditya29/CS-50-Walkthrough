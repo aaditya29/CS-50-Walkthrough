{
 "cells": [
  {
   "attachments": {},
   "cell_type": "markdown",
   "metadata": {},
   "source": [
    "# Sets In Python"
   ]
  },
  {
   "attachments": {},
   "cell_type": "markdown",
   "metadata": {},
   "source": [
    "A Set is an unordered collection data type that is unindexed, mutable, and has no duplicate elements. Sets are created with braces.<br>\n",
    "`my_set = {\"apple\", \"banana\", \"cherry\"}`"
   ]
  },
  {
   "attachments": {},
   "cell_type": "markdown",
   "metadata": {},
   "source": [
    "#### Creating A Set\n",
    "Use curly braces or the built-in set function."
   ]
  },
  {
   "cell_type": "code",
   "execution_count": 12,
   "metadata": {},
   "outputs": [
    {
     "name": "stdout",
     "output_type": "stream",
     "text": [
      "{'banana', 'apple', 'cherry'}\n",
      "{'two', 'one', 'three'}\n",
      "{'b', 'f', 'd', 'a', 'e', 'c'}\n",
      "<class 'dict'>\n",
      "<class 'set'>\n"
     ]
    }
   ],
   "source": [
    "my_set = {\"apple\", \"banana\", \"cherry\"}\n",
    "print(my_set)\n",
    "\n",
    "# or use the set function and create from an iterable, e.g. list, tuple, string\n",
    "my_set_2 = set([\"one\", \"two\", \"three\"])\n",
    "my_set_2 = set((\"one\", \"two\", \"three\"))\n",
    "print(my_set_2)\n",
    "\n",
    "my_set_3 = set(\"aaabbbcccdddeeeeeffff\")\n",
    "print(my_set_3)\n",
    "\n",
    "# careful: an empty set cannot be created with {}, as this is interpreted as dict\n",
    "# use set() instead\n",
    "a = {}\n",
    "print(type(a))\n",
    "a = set()\n",
    "print(type(a))"
   ]
  },
  {
   "attachments": {},
   "cell_type": "markdown",
   "metadata": {},
   "source": [
    "#### Adding Elements\n"
   ]
  },
  {
   "cell_type": "code",
   "execution_count": 13,
   "metadata": {},
   "outputs": [
    {
     "name": "stdout",
     "output_type": "stream",
     "text": [
      "{True, 42, 'Hello'}\n",
      "{True, 42, 'Hello'}\n"
     ]
    }
   ],
   "source": [
    "my_set = set()\n",
    "\n",
    "# use the add() method to add elements\n",
    "my_set.add(42)\n",
    "my_set.add(True)\n",
    "my_set.add(\"Hello\")\n",
    "\n",
    "# note: the order does not matter, and might differ when printed\n",
    "print(my_set)\n",
    "\n",
    "# nothing happens when the element is already present:\n",
    "my_set.add(42)\n",
    "print(my_set)"
   ]
  },
  {
   "attachments": {},
   "cell_type": "markdown",
   "metadata": {},
   "source": [
    "#### Removing An Element"
   ]
  },
  {
   "cell_type": "code",
   "execution_count": 14,
   "metadata": {},
   "outputs": [
    {
     "name": "stdout",
     "output_type": "stream",
     "text": [
      "{'banana', 'cherry'}\n",
      "{'banana'}\n",
      "set()\n",
      "False\n",
      "{True, 2, 'hello', 'hi'}\n"
     ]
    }
   ],
   "source": [
    "# remove(x): removes x, raises a KeyError if element is not present\n",
    "my_set = {\"apple\", \"banana\", \"cherry\"}\n",
    "my_set.remove(\"apple\")\n",
    "print(my_set)\n",
    "\n",
    "# KeyError:\n",
    "# my_set.remove(\"orange\")\n",
    "\n",
    "# discard(x): removes x, does nothing if element is not present\n",
    "my_set.discard(\"cherry\")\n",
    "my_set.discard(\"blueberry\")\n",
    "print(my_set)\n",
    "\n",
    "# clear() : remove all elements\n",
    "my_set.clear()\n",
    "print(my_set)\n",
    "\n",
    "# pop() : return and remove a random element\n",
    "a = {True, 2, False, \"hi\", \"hello\"}\n",
    "print(a.pop())\n",
    "print(a)"
   ]
  },
  {
   "attachments": {},
   "cell_type": "markdown",
   "metadata": {},
   "source": [
    "#### Checking If Element Is In Set\n"
   ]
  },
  {
   "cell_type": "code",
   "execution_count": 15,
   "metadata": {},
   "outputs": [
    {
     "name": "stdout",
     "output_type": "stream",
     "text": [
      "yes\n"
     ]
    }
   ],
   "source": [
    "my_set = {\"apple\", \"banana\", \"cherry\"}\n",
    "if \"apple\" in my_set:\n",
    "    print(\"yes\")"
   ]
  },
  {
   "attachments": {},
   "cell_type": "markdown",
   "metadata": {},
   "source": [
    "#### Iterating"
   ]
  },
  {
   "cell_type": "code",
   "execution_count": 16,
   "metadata": {},
   "outputs": [
    {
     "name": "stdout",
     "output_type": "stream",
     "text": [
      "banana\n",
      "apple\n",
      "cherry\n"
     ]
    }
   ],
   "source": [
    "# Iterating over a set by using a for in loop\n",
    "# Note: order is not important\n",
    "my_set = {\"apple\", \"banana\", \"cherry\"}\n",
    "for i in my_set:\n",
    "    print(i)"
   ]
  },
  {
   "attachments": {},
   "cell_type": "markdown",
   "metadata": {},
   "source": [
    "#### Union And Intersection"
   ]
  },
  {
   "cell_type": "code",
   "execution_count": 17,
   "metadata": {},
   "outputs": [
    {
     "name": "stdout",
     "output_type": "stream",
     "text": [
      "{0, 1, 2, 3, 4, 5, 6, 7, 8, 9}\n",
      "set()\n",
      "{3, 5, 7}\n",
      "{2}\n"
     ]
    }
   ],
   "source": [
    "odds = {1, 3, 5, 7, 9}\n",
    "evens = {0, 2, 4, 6, 8}\n",
    "primes = {2, 3, 5, 7}\n",
    "\n",
    "# union() : combine elements from both sets, no duplication\n",
    "# note that this does not change the two sets\n",
    "u = odds.union(evens)\n",
    "print(u)\n",
    "\n",
    "# intersection(): take elements that are in both sets\n",
    "i = odds.intersection(evens)\n",
    "print(i)\n",
    "\n",
    "i = odds.intersection(primes)\n",
    "print(i)\n",
    "\n",
    "i = evens.intersection(primes)\n",
    "print(i)"
   ]
  },
  {
   "attachments": {},
   "cell_type": "markdown",
   "metadata": {},
   "source": [
    "#### Difference Of Sets"
   ]
  },
  {
   "cell_type": "code",
   "execution_count": 18,
   "metadata": {},
   "outputs": [
    {
     "name": "stdout",
     "output_type": "stream",
     "text": [
      "{4, 5, 6, 7, 8, 9}\n",
      "{10, 11, 12}\n",
      "{4, 5, 6, 7, 8, 9, 10, 11, 12}\n",
      "{4, 5, 6, 7, 8, 9, 10, 11, 12}\n"
     ]
    }
   ],
   "source": [
    "setA = {1, 2, 3, 4, 5, 6, 7, 8, 9}\n",
    "setB = {1, 2, 3, 10, 11, 12}\n",
    "\n",
    "# difference() : returns a set with all the elements from the setA that are not in setB.\n",
    "diff_set = setA.difference(setB)\n",
    "print(diff_set)\n",
    "\n",
    "# A.difference(B) is not the same as B.difference(A)\n",
    "diff_set = setB.difference(setA)\n",
    "print(diff_set)\n",
    "\n",
    "# symmetric_difference() : returns a set with all the elements that are in setA and setB but not in both\n",
    "diff_set = setA.symmetric_difference(setB)\n",
    "print(diff_set)\n",
    "\n",
    "# A.symmetric_difference(B) = B.symmetric_difference(A)\n",
    "diff_set = setB.symmetric_difference(setA)\n",
    "print(diff_set)"
   ]
  },
  {
   "attachments": {},
   "cell_type": "markdown",
   "metadata": {},
   "source": [
    "#### Updating Sets"
   ]
  },
  {
   "cell_type": "code",
   "execution_count": 19,
   "metadata": {},
   "outputs": [
    {
     "name": "stdout",
     "output_type": "stream",
     "text": [
      "{1, 2, 3, 4, 5, 6, 7, 8, 9, 10, 11, 12}\n",
      "{1, 2, 3}\n",
      "{4, 5, 6, 7, 8, 9}\n",
      "{4, 5, 6, 7, 8, 9, 10, 11, 12}\n"
     ]
    }
   ],
   "source": [
    "setA = {1, 2, 3, 4, 5, 6, 7, 8, 9}\n",
    "setB = {1, 2, 3, 10, 11, 12}\n",
    "\n",
    "# update() : Update the set by adding elements from another set.\n",
    "setA.update(setB)\n",
    "print(setA)\n",
    "\n",
    "# intersection_update() : Update the set by keeping only the elements found in both\n",
    "setA = {1, 2, 3, 4, 5, 6, 7, 8, 9}\n",
    "setA.intersection_update(setB)\n",
    "print(setA)\n",
    "\n",
    "# difference_update() : Update the set by removing elements found in another set.\n",
    "setA = {1, 2, 3, 4, 5, 6, 7, 8, 9}\n",
    "setA.difference_update(setB)\n",
    "print(setA)\n",
    "\n",
    "# symmetric_difference_update() : Update the set by only keeping the elements found in either set, but not in both\n",
    "setA = {1, 2, 3, 4, 5, 6, 7, 8, 9}\n",
    "setA.symmetric_difference_update(setB)\n",
    "print(setA)\n",
    "\n",
    "# Note: all update methods also work with other iterables as argument, e.g lists, tuples\n",
    "# setA.update([1, 2, 3, 4, 5, 6])"
   ]
  },
  {
   "attachments": {},
   "cell_type": "markdown",
   "metadata": {},
   "source": [
    "#### Copying"
   ]
  },
  {
   "cell_type": "code",
   "execution_count": 20,
   "metadata": {},
   "outputs": [
    {
     "name": "stdout",
     "output_type": "stream",
     "text": [
      "{1, 2, 3, 4, 5, 6, 7}\n",
      "{1, 2, 3, 4, 5, 6, 7}\n",
      "{1, 2, 3, 4, 5, 6, 7}\n",
      "{1, 2, 3, 4, 5}\n"
     ]
    }
   ],
   "source": [
    "set_org = {1, 2, 3, 4, 5}\n",
    "\n",
    "# this just copies the reference to the set, so be careful\n",
    "set_copy = set_org\n",
    "\n",
    "# now modifying the copy also affects the original\n",
    "set_copy.update([3, 4, 5, 6, 7])\n",
    "print(set_copy)\n",
    "print(set_org)\n",
    "\n",
    "# use copy() to actually copy the set\n",
    "set_org = {1, 2, 3, 4, 5}\n",
    "set_copy = set_org.copy()\n",
    "\n",
    "# now modifying the copy does not affect the original\n",
    "set_copy.update([3, 4, 5, 6, 7])\n",
    "print(set_copy)\n",
    "print(set_org)"
   ]
  }
 ],
 "metadata": {
  "kernelspec": {
   "display_name": "Python 3",
   "language": "python",
   "name": "python3"
  },
  "language_info": {
   "codemirror_mode": {
    "name": "ipython",
    "version": 3
   },
   "file_extension": ".py",
   "mimetype": "text/x-python",
   "name": "python",
   "nbconvert_exporter": "python",
   "pygments_lexer": "ipython3",
   "version": "3.8.9"
  },
  "orig_nbformat": 4
 },
 "nbformat": 4,
 "nbformat_minor": 2
}
