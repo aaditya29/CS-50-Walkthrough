{
 "cells": [
  {
   "attachments": {},
   "cell_type": "markdown",
   "metadata": {},
   "source": [
    "# Sets In Python"
   ]
  },
  {
   "attachments": {},
   "cell_type": "markdown",
   "metadata": {},
   "source": [
    "A Set is an unordered collection data type that is unindexed, mutable, and has no duplicate elements. Sets are created with braces.<br>\n",
    "`my_set = {\"apple\", \"banana\", \"cherry\"}`"
   ]
  },
  {
   "attachments": {},
   "cell_type": "markdown",
   "metadata": {},
   "source": [
    "#### Creating A Set\n",
    "Use curly braces or the built-in set function."
   ]
  },
  {
   "cell_type": "code",
   "execution_count": 1,
   "metadata": {},
   "outputs": [
    {
     "name": "stdout",
     "output_type": "stream",
     "text": [
      "{'cherry', 'banana', 'apple'}\n",
      "{'three', 'one', 'two'}\n",
      "{'e', 'a', 'c', 'f', 'b', 'd'}\n",
      "<class 'dict'>\n",
      "<class 'set'>\n"
     ]
    }
   ],
   "source": [
    "my_set = {\"apple\", \"banana\", \"cherry\"}\n",
    "print(my_set)\n",
    "\n",
    "# or use the set function and create from an iterable, e.g. list, tuple, string\n",
    "my_set_2 = set([\"one\", \"two\", \"three\"])\n",
    "my_set_2 = set((\"one\", \"two\", \"three\"))\n",
    "print(my_set_2)\n",
    "\n",
    "my_set_3 = set(\"aaabbbcccdddeeeeeffff\")\n",
    "print(my_set_3)\n",
    "\n",
    "# careful: an empty set cannot be created with {}, as this is interpreted as dict\n",
    "# use set() instead\n",
    "a = {}\n",
    "print(type(a))\n",
    "a = set()\n",
    "print(type(a))"
   ]
  },
  {
   "attachments": {},
   "cell_type": "markdown",
   "metadata": {},
   "source": [
    "#### Adding Elements\n"
   ]
  },
  {
   "cell_type": "code",
   "execution_count": 1,
   "metadata": {},
   "outputs": [
    {
     "name": "stdout",
     "output_type": "stream",
     "text": [
      "{True, 42, 'Hello'}\n",
      "{True, 42, 'Hello'}\n"
     ]
    }
   ],
   "source": [
    "my_set = set()\n",
    "\n",
    "# use the add() method to add elements\n",
    "my_set.add(42)\n",
    "my_set.add(True)\n",
    "my_set.add(\"Hello\")\n",
    "\n",
    "# note: the order does not matter, and might differ when printed\n",
    "print(my_set)\n",
    "\n",
    "# nothing happens when the element is already present:\n",
    "my_set.add(42)\n",
    "print(my_set)"
   ]
  },
  {
   "attachments": {},
   "cell_type": "markdown",
   "metadata": {},
   "source": [
    "#### Removing An Element"
   ]
  },
  {
   "cell_type": "code",
   "execution_count": 2,
   "metadata": {},
   "outputs": [
    {
     "name": "stdout",
     "output_type": "stream",
     "text": [
      "{'banana', 'cherry'}\n",
      "{'banana'}\n",
      "set()\n",
      "False\n",
      "{True, 2, 'hello', 'hi'}\n"
     ]
    }
   ],
   "source": [
    "# remove(x): removes x, raises a KeyError if element is not present\n",
    "my_set = {\"apple\", \"banana\", \"cherry\"}\n",
    "my_set.remove(\"apple\")\n",
    "print(my_set)\n",
    "\n",
    "# KeyError:\n",
    "# my_set.remove(\"orange\")\n",
    "\n",
    "# discard(x): removes x, does nothing if element is not present\n",
    "my_set.discard(\"cherry\")\n",
    "my_set.discard(\"blueberry\")\n",
    "print(my_set)\n",
    "\n",
    "# clear() : remove all elements\n",
    "my_set.clear()\n",
    "print(my_set)\n",
    "\n",
    "# pop() : return and remove a random element\n",
    "a = {True, 2, False, \"hi\", \"hello\"}\n",
    "print(a.pop())\n",
    "print(a)"
   ]
  },
  {
   "attachments": {},
   "cell_type": "markdown",
   "metadata": {},
   "source": [
    "#### Checking If Element Is In Set\n"
   ]
  },
  {
   "cell_type": "code",
   "execution_count": null,
   "metadata": {},
   "outputs": [],
   "source": [
    "my_set = {\"apple\", \"banana\", \"cherry\"}\n",
    "if \"apple\" in my_set:\n",
    "    print(\"yes\")"
   ]
  }
 ],
 "metadata": {
  "kernelspec": {
   "display_name": "Python 3",
   "language": "python",
   "name": "python3"
  },
  "language_info": {
   "codemirror_mode": {
    "name": "ipython",
    "version": 3
   },
   "file_extension": ".py",
   "mimetype": "text/x-python",
   "name": "python",
   "nbconvert_exporter": "python",
   "pygments_lexer": "ipython3",
   "version": "3.8.9"
  },
  "orig_nbformat": 4
 },
 "nbformat": 4,
 "nbformat_minor": 2
}
