{
 "cells": [
  {
   "attachments": {},
   "cell_type": "markdown",
   "metadata": {},
   "source": [
    "# Sets In Python"
   ]
  },
  {
   "attachments": {},
   "cell_type": "markdown",
   "metadata": {},
   "source": [
    "A Set is an unordered collection data type that is unindexed, mutable, and has no duplicate elements. Sets are created with braces.<br>\n",
    "`my_set = {\"apple\", \"banana\", \"cherry\"}`"
   ]
  },
  {
   "attachments": {},
   "cell_type": "markdown",
   "metadata": {},
   "source": [
    "#### Creating A Set\n",
    "Use curly braces or the built-in set function."
   ]
  },
  {
   "cell_type": "code",
   "execution_count": 1,
   "metadata": {},
   "outputs": [
    {
     "name": "stdout",
     "output_type": "stream",
     "text": [
      "{'cherry', 'banana', 'apple'}\n",
      "{'three', 'one', 'two'}\n",
      "{'e', 'a', 'c', 'f', 'b', 'd'}\n",
      "<class 'dict'>\n",
      "<class 'set'>\n"
     ]
    }
   ],
   "source": [
    "my_set = {\"apple\", \"banana\", \"cherry\"}\n",
    "print(my_set)\n",
    "\n",
    "# or use the set function and create from an iterable, e.g. list, tuple, string\n",
    "my_set_2 = set([\"one\", \"two\", \"three\"])\n",
    "my_set_2 = set((\"one\", \"two\", \"three\"))\n",
    "print(my_set_2)\n",
    "\n",
    "my_set_3 = set(\"aaabbbcccdddeeeeeffff\")\n",
    "print(my_set_3)\n",
    "\n",
    "# careful: an empty set cannot be created with {}, as this is interpreted as dict\n",
    "# use set() instead\n",
    "a = {}\n",
    "print(type(a))\n",
    "a = set()\n",
    "print(type(a))"
   ]
  },
  {
   "cell_type": "code",
   "execution_count": null,
   "metadata": {},
   "outputs": [],
   "source": []
  }
 ],
 "metadata": {
  "kernelspec": {
   "display_name": "Python 3",
   "language": "python",
   "name": "python3"
  },
  "language_info": {
   "codemirror_mode": {
    "name": "ipython",
    "version": 3
   },
   "file_extension": ".py",
   "mimetype": "text/x-python",
   "name": "python",
   "nbconvert_exporter": "python",
   "pygments_lexer": "ipython3",
   "version": "3.8.9"
  },
  "orig_nbformat": 4
 },
 "nbformat": 4,
 "nbformat_minor": 2
}
