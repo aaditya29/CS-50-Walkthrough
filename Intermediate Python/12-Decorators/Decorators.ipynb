{
 "cells": [
  {
   "attachments": {},
   "cell_type": "markdown",
   "metadata": {},
   "source": [
    "# Decorators In Python\n",
    "- A decorator is a function that takes another function and extends the behavior of this function without explicitly modifying it.\n",
    "- It is a very powerful tool that allows to add new functionality to an existing function.\n",
    "\n",
    "- There are 2 kinds of decorators:\n",
    "    - Function decoratos\n",
    "    - Class decorators\n",
    "- A function is decorated with the `@` symbol:\n",
    "- Syntax:\n",
    "    ```Python\n",
    "    @my_decorator\n",
    "    def my_function():\n",
    "    pass\n",
    "    ```\n",
    "\n"
   ]
  },
  {
   "attachments": {},
   "cell_type": "markdown",
   "metadata": {},
   "source": [
    "#### Function decorators\n",
    "- In order to understand the decorator pattern, we have to understand that functions in Python are first class objects, which means that – like any other object – they can be defined inside another function, passed as argument to another function, or returned from other functions. \n",
    "- A decorator is a function that takes another function as argument, wraps its behaviour inside an inner function. and returns the wrapped function. As a consequence, the decorated function no has extended functionality!"
   ]
  },
  {
   "cell_type": "code",
   "execution_count": 7,
   "metadata": {},
   "outputs": [
    {
     "name": "stdout",
     "output_type": "stream",
     "text": [
      "Alex\n",
      "\n",
      "Start\n",
      "Alex\n",
      "End\n"
     ]
    }
   ],
   "source": [
    "# A decorator function takes another function as argument, wraps its behaviour inside\n",
    "# an inner function, and returns the wrapped function.\n",
    "def start_end_decorator(func):\n",
    "    \n",
    "    def wrapper():\n",
    "        print('Start')\n",
    "        func()\n",
    "        print('End')\n",
    "    return wrapper\n",
    "\n",
    "def print_name():\n",
    "    print('Alex')\n",
    "    \n",
    "print_name()\n",
    "\n",
    "print()\n",
    "\n",
    "# Now wrap the function by passing it as argument to the decorator function\n",
    "# and asign it to itself -> Our function has extended behaviour!\n",
    "print_name = start_end_decorator(print_name)\n",
    "print_name()"
   ]
  },
  {
   "attachments": {},
   "cell_type": "markdown",
   "metadata": {},
   "source": [
    "#### The decorator syntax\n",
    "Instead of wrapping our function and asigning it to itself, we can achieve the same thing simply by decorating our function with an @."
   ]
  },
  {
   "cell_type": "code",
   "execution_count": 8,
   "metadata": {},
   "outputs": [
    {
     "name": "stdout",
     "output_type": "stream",
     "text": [
      "Start\n",
      "Alex\n",
      "End\n"
     ]
    }
   ],
   "source": [
    "@start_end_decorator\n",
    "def print_name():\n",
    "    print('Alex')\n",
    "    \n",
    "print_name()"
   ]
  },
  {
   "attachments": {},
   "cell_type": "markdown",
   "metadata": {},
   "source": [
    "#### Function Arguments\n",
    "If our function has input arguments and we try to wrap it with our decorator above, it will raise a `TypeError`<br> Since we have to call our function inside the wrapper with this arguments, too. However, we can fix this by using `*args` and `**kwargs` in the inner function:\n"
   ]
  },
  {
   "cell_type": "code",
   "execution_count": 9,
   "metadata": {},
   "outputs": [
    {
     "name": "stdout",
     "output_type": "stream",
     "text": [
      "Start\n",
      "End\n",
      "None\n"
     ]
    }
   ],
   "source": [
    "def start_end_decorator_2(func):\n",
    "    \n",
    "    def wrapper(*args, **kwargs):\n",
    "        print('Start')\n",
    "        func(*args, **kwargs)\n",
    "        print('End')\n",
    "    return wrapper\n",
    "\n",
    "@start_end_decorator_2\n",
    "def add_5(x):\n",
    "    return x + 5\n",
    "\n",
    "result = add_5(10)\n",
    "print(result)"
   ]
  },
  {
   "attachments": {},
   "cell_type": "markdown",
   "metadata": {},
   "source": [
    "#### Return Values\n",
    "Note that in the example above, we do not get the result back, so as next step we also have to return the value from our inner function:"
   ]
  },
  {
   "cell_type": "code",
   "execution_count": 10,
   "metadata": {},
   "outputs": [
    {
     "name": "stdout",
     "output_type": "stream",
     "text": [
      "Start\n",
      "End\n",
      "15\n"
     ]
    }
   ],
   "source": [
    "def start_end_decorator_3(func):\n",
    "    \n",
    "    def wrapper(*args, **kwargs):\n",
    "        print('Start')\n",
    "        result = func(*args, **kwargs)\n",
    "        print('End')\n",
    "        return result\n",
    "    return wrapper\n",
    "\n",
    "@start_end_decorator_3\n",
    "def add_5(x):\n",
    "    return x + 5\n",
    "\n",
    "result = add_5(10)\n",
    "print(result)"
   ]
  }
 ],
 "metadata": {
  "kernelspec": {
   "display_name": "Python 3",
   "language": "python",
   "name": "python3"
  },
  "language_info": {
   "codemirror_mode": {
    "name": "ipython",
    "version": 3
   },
   "file_extension": ".py",
   "mimetype": "text/x-python",
   "name": "python",
   "nbconvert_exporter": "python",
   "pygments_lexer": "ipython3",
   "version": "3.8.9"
  },
  "orig_nbformat": 4
 },
 "nbformat": 4,
 "nbformat_minor": 2
}
