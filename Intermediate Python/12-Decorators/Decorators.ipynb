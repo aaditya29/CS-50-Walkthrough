{
 "cells": [
  {
   "attachments": {},
   "cell_type": "markdown",
   "metadata": {},
   "source": [
    "# Decorators In Python\n",
    "- A decorator is a function that takes another function and extends the behavior of this function without explicitly modifying it.\n",
    "- It is a very powerful tool that allows to add new functionality to an existing function.\n",
    "\n",
    "- There are 2 kinds of decorators:\n",
    "    - Function decoratos\n",
    "    - Class decorators\n",
    "- A function is decorated with the `@` symbol:\n",
    "- Syntax:\n",
    "    ```Python\n",
    "    @my_decorator\n",
    "    def my_function():\n",
    "    pass\n",
    "    ```\n",
    "\n"
   ]
  },
  {
   "attachments": {},
   "cell_type": "markdown",
   "metadata": {},
   "source": [
    "#### Function decorators\n",
    "- In order to understand the decorator pattern, we have to understand that functions in Python are first class objects, which means that – like any other object – they can be defined inside another function, passed as argument to another function, or returned from other functions. \n",
    "- A decorator is a function that takes another function as argument, wraps its behaviour inside an inner function. and returns the wrapped function. As a consequence, the decorated function no has extended functionality!"
   ]
  },
  {
   "cell_type": "code",
   "execution_count": null,
   "metadata": {},
   "outputs": [],
   "source": []
  }
 ],
 "metadata": {
  "language_info": {
   "name": "python"
  },
  "orig_nbformat": 4
 },
 "nbformat": 4,
 "nbformat_minor": 2
}
