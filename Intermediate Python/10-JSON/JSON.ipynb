{
 "cells": [
  {
   "attachments": {},
   "cell_type": "markdown",
   "metadata": {},
   "source": [
    "# JSON\n",
    "- `JSON (JavaScript Object Notation)` is a leightweight data format for data exchange. In Python we have the built-in `json` module for encoding and decoding JSON data.\n",
    "- Importing it with syntax `import json` and we are ready to work with JSON data:"
   ]
  },
  {
   "attachments": {},
   "cell_type": "markdown",
   "metadata": {},
   "source": [
    "#### Advantages Of JSON\n",
    "- JSON exists as a \"sequence of bytes\" which is very useful in the case we need to transmit (stream) data over a network.\n",
    "- Compared to XML, JSON is much smaller, translating into faster data transfers, and better experiences.\n",
    "- JSON is extremely human-friendly since it is textual, and simultaneously machine-friendly.\n"
   ]
  },
  {
   "attachments": {},
   "cell_type": "markdown",
   "metadata": {},
   "source": [
    "#### JSON Format\n",
    "\n",
    "````JSON\n",
    "{\n",
    "    \"firstName\": \"Jane\",\n",
    "    \"lastName\": \"Doe\",\n",
    "    \"hobbies\": [\"running\", \"swimming\", \"singing\"],\n",
    "    \"age\": 28,\n",
    "    \"children\": [\n",
    "        {\n",
    "            \"firstName\": \"Alex\",\n",
    "            \"age\": 5\n",
    "        },\n",
    "        {\n",
    "            \"firstName\": \"Bob\",\n",
    "            \"age\": 7\n",
    "        }\n",
    "    ]\n",
    "}\n",
    "````\n",
    "\n",
    "- JSON also supports primitive types (strings, numbers, boolean), as well as nested arrays and objects. <br>"
   ]
  },
  {
   "attachments": {},
   "cell_type": "markdown",
   "metadata": {},
   "source": [
    "Simple Python objects are translated to JSON according to the following table conversion: \n",
    "\n",
    "| Python  | JSON |\n",
    "| ------------- | ------------- |\n",
    "| dict  | object  |\n",
    "| list, tuple  | array  |\n",
    "| str  | string  |\n",
    "| int, long, float| number  |\n",
    "| True  | true  |\n",
    "| False  | false  |\n",
    "| None  | null |"
   ]
  },
  {
   "attachments": {},
   "cell_type": "markdown",
   "metadata": {},
   "source": [
    "#### From Python to JSON (Serialization, Encode)\n",
    "We convert Python objects into a JSON string with the `json.dumps()` method."
   ]
  },
  {
   "cell_type": "code",
   "execution_count": 2,
   "metadata": {},
   "outputs": [
    {
     "name": "stdout",
     "output_type": "stream",
     "text": [
      "{\"name\": \"John\", \"age\": 30, \"city\": \"New York\", \"hasChildren\": false, \"titles\": [\"engineer\", \"programmer\"]}\n",
      "{\n",
      "    \"age\"= 30; \n",
      "    \"city\"= \"New York\"; \n",
      "    \"hasChildren\"= false; \n",
      "    \"name\"= \"John\"; \n",
      "    \"titles\"= [\n",
      "        \"engineer\"; \n",
      "        \"programmer\"\n",
      "    ]\n",
      "}\n"
     ]
    }
   ],
   "source": [
    "import json\n",
    "\n",
    "person = {\"name\": \"John\", \"age\": 30, \"city\": \"New York\", \"hasChildren\": False, \"titles\": [\"engineer\", \"programmer\"]}\n",
    "\n",
    "# Converting into JSON\n",
    "person_json = json.dumps(person)\n",
    "\n",
    "#Converting with different format\n",
    "person_json2 = json.dumps(person, indent=4, separators=(\"; \", \"= \"), sort_keys=True)\n",
    "\n",
    "# the result is a JSON string:\n",
    "print(person_json) \n",
    "print(person_json2) "
   ]
  },
  {
   "attachments": {},
   "cell_type": "markdown",
   "metadata": {},
   "source": [
    "We can also convert Python objects into JSON objects and save them into a file with the `json.dump()` method.\n",
    "\n"
   ]
  },
  {
   "cell_type": "code",
   "execution_count": 3,
   "metadata": {},
   "outputs": [],
   "source": [
    "import json\n",
    "\n",
    "person = {\"name\": \"John\", \"age\": 30, \"city\": \"New York\", \"hasChildren\": False, \"titles\": [\"engineer\", \"programmer\"]}\n",
    "\n",
    "with open('person.json', 'w') as f:\n",
    "    json.dump(person, f) # you can also specify indent etc..."
   ]
  },
  {
   "attachments": {},
   "cell_type": "markdown",
   "metadata": {},
   "source": [
    "#### FROM JSON to Python (Deserialization, Decode)\n",
    "We can convert a JSON string into a Python object with the `json.loads()` method. The result will be a Python dictionary."
   ]
  },
  {
   "cell_type": "code",
   "execution_count": 4,
   "metadata": {},
   "outputs": [
    {
     "name": "stdout",
     "output_type": "stream",
     "text": [
      "{'age': 30, 'city': 'New York', 'hasChildren': False, 'name': 'John', 'titles': ['engineer', 'programmer']}\n"
     ]
    }
   ],
   "source": [
    "import json\n",
    "person_json = \"\"\"\n",
    "{\n",
    "    \"age\": 30, \n",
    "    \"city\": \"New York\",\n",
    "    \"hasChildren\": false, \n",
    "    \"name\": \"John\",\n",
    "    \"titles\": [\n",
    "        \"engineer\",\n",
    "        \"programmer\"\n",
    "    ]\n",
    "}\n",
    "\"\"\"\n",
    "person = json.loads(person_json)\n",
    "print(person)"
   ]
  },
  {
   "attachments": {},
   "cell_type": "markdown",
   "metadata": {},
   "source": [
    "We can also load data from a file and convert it to a Python object with the json.load() method."
   ]
  },
  {
   "cell_type": "code",
   "execution_count": 5,
   "metadata": {},
   "outputs": [
    {
     "name": "stdout",
     "output_type": "stream",
     "text": [
      "{'name': 'John', 'age': 30, 'city': 'New York', 'hasChildren': False, 'titles': ['engineer', 'programmer']}\n"
     ]
    }
   ],
   "source": [
    "import json\n",
    "\n",
    "with open('person.json', 'r') as f:\n",
    "    person = json.load(f)\n",
    "    print(person)"
   ]
  },
  {
   "attachments": {},
   "cell_type": "markdown",
   "metadata": {},
   "source": [
    "## Working With Custom Objects\n",
    "\n",
    "#### Encoding\n",
    "Encoding a custom object with the default `JSONEncoder` will raise a TypeError.<br>\n",
    "We can specify a custom encoding function that will store the class name and all object variables in a dictionary.<br>\n",
    "Using this function for the default argument in the `json.dump()` method."
   ]
  },
  {
   "cell_type": "code",
   "execution_count": 6,
   "metadata": {},
   "outputs": [
    {
     "name": "stdout",
     "output_type": "stream",
     "text": [
      "{\"complex\": true, \"real\": 5.0, \"imag\": 9.0}\n"
     ]
    }
   ],
   "source": [
    "import json\n",
    "def encode_complex(z):\n",
    "    if isinstance(z, complex):\n",
    "        # just the key of the class name is important, the value can be arbitrary.\n",
    "        return {z.__class__.__name__: True, \"real\":z.real, \"imag\":z.imag}\n",
    "    else:\n",
    "        raise TypeError(f\"Object of type '{z.__class__.__name__}' is not JSON serializable\")\n",
    "\n",
    "z = 5 + 9j\n",
    "zJSON = json.dumps(z, default=encode_complex)\n",
    "print(zJSON)"
   ]
  },
  {
   "attachments": {},
   "cell_type": "markdown",
   "metadata": {},
   "source": [
    "We can also create a custom Encoder class, and overwrite the `default()` method. Use this for the cls argument in the json.dump() method, or use the encoder directly."
   ]
  },
  {
   "cell_type": "code",
   "execution_count": 7,
   "metadata": {},
   "outputs": [
    {
     "name": "stdout",
     "output_type": "stream",
     "text": [
      "{\"complex\": true, \"real\": 5.0, \"imag\": 9.0}\n",
      "{\"complex\": true, \"real\": 5.0, \"imag\": 9.0}\n"
     ]
    }
   ],
   "source": [
    "from json import JSONEncoder\n",
    "class ComplexEncoder(JSONEncoder):\n",
    "    \n",
    "    def default(self, o):\n",
    "        if isinstance(z, complex):\n",
    "            return {z.__class__.__name__: True, \"real\":z.real, \"imag\":z.imag}\n",
    "        # Let the base class default method handle other objects or raise a TypeError\n",
    "        return JSONEncoder.default(self, o)\n",
    "    \n",
    "z = 5 + 9j\n",
    "zJSON = json.dumps(z, cls=ComplexEncoder)\n",
    "print(zJSON)\n",
    "# or use encoder directly:\n",
    "zJson = ComplexEncoder().encode(z)\n",
    "print(zJSON)"
   ]
  },
  {
   "attachments": {},
   "cell_type": "markdown",
   "metadata": {},
   "source": [
    "#### Decoding\n",
    "Decoding a custom object with the defaut `JSONDecoder` is possible, but it will be decoded into a dictionary.<br>\n",
    "Writing a custom decode function that will take a dictionary as input, and creates our custom object if it can find the object class name in the dictionary.<br>\n",
    "Using this function for the `object_hook` argument in the `json.load()` method."
   ]
  },
  {
   "cell_type": "code",
   "execution_count": 8,
   "metadata": {},
   "outputs": [
    {
     "name": "stdout",
     "output_type": "stream",
     "text": [
      "<class 'dict'>\n",
      "{'complex': True, 'real': 5.0, 'imag': 9.0}\n",
      "<class 'complex'>\n",
      "(5+9j)\n"
     ]
    }
   ],
   "source": [
    "# Possible but decoded as a dictionary\n",
    "z = json.loads(zJSON)\n",
    "print(type(z))\n",
    "print(z)\n",
    "\n",
    "def decode_complex(dct):\n",
    "    if complex.__name__ in dct:\n",
    "        return complex(dct[\"real\"], dct[\"imag\"])\n",
    "    return dct\n",
    "\n",
    "# Now the object is of type complex after decoding\n",
    "z = json.loads(zJSON, object_hook=decode_complex)\n",
    "print(type(z))\n",
    "print(z)"
   ]
  }
 ],
 "metadata": {
  "kernelspec": {
   "display_name": "Python 3",
   "language": "python",
   "name": "python3"
  },
  "language_info": {
   "codemirror_mode": {
    "name": "ipython",
    "version": 3
   },
   "file_extension": ".py",
   "mimetype": "text/x-python",
   "name": "python",
   "nbconvert_exporter": "python",
   "pygments_lexer": "ipython3",
   "version": "3.8.9"
  },
  "orig_nbformat": 4
 },
 "nbformat": 4,
 "nbformat_minor": 2
}
