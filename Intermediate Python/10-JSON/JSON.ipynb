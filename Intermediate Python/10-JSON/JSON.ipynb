{
 "cells": [
  {
   "attachments": {},
   "cell_type": "markdown",
   "metadata": {},
   "source": [
    "# JSON\n",
    "- `JSON (JavaScript Object Notation)` is a leightweight data format for data exchange. In Python we have the built-in `json` module for encoding and decoding JSON data.\n",
    "- Importing it with syntax `import json` and we are ready to work with JSON data:"
   ]
  },
  {
   "attachments": {},
   "cell_type": "markdown",
   "metadata": {},
   "source": [
    "#### Advantages Of JSON\n",
    "- JSON exists as a \"sequence of bytes\" which is very useful in the case we need to transmit (stream) data over a network.\n",
    "- Compared to XML, JSON is much smaller, translating into faster data transfers, and better experiences.\n",
    "- JSON is extremely human-friendly since it is textual, and simultaneously machine-friendly.\n"
   ]
  },
  {
   "attachments": {},
   "cell_type": "markdown",
   "metadata": {},
   "source": [
    "#### JSON Format\n",
    "\n",
    "````JSON\n",
    "{\n",
    "    \"firstName\": \"Jane\",\n",
    "    \"lastName\": \"Doe\",\n",
    "    \"hobbies\": [\"running\", \"swimming\", \"singing\"],\n",
    "    \"age\": 28,\n",
    "    \"children\": [\n",
    "        {\n",
    "            \"firstName\": \"Alex\",\n",
    "            \"age\": 5\n",
    "        },\n",
    "        {\n",
    "            \"firstName\": \"Bob\",\n",
    "            \"age\": 7\n",
    "        }\n",
    "    ]\n",
    "}\n",
    "````"
   ]
  }
 ],
 "metadata": {
  "language_info": {
   "name": "python"
  },
  "orig_nbformat": 4
 },
 "nbformat": 4,
 "nbformat_minor": 2
}
