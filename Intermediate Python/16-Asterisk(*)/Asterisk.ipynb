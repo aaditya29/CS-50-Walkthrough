{
 "cells": [
  {
   "cell_type": "markdown",
   "metadata": {},
   "source": [
    "#The Asterisk (`*`) in Python\n",
    "\n",
    "The asterisk sign (`*`) can be used for different cases in Python:\n",
    "- Multiplication and power operations\n",
    "- Creation of list, tuple, or string with repeated elements\n",
    "- *args , **kwargs , and keyword-only parameters\n",
    "- Unpacking lists/tuples/dictionaries for function arguments\n",
    "- Unpacking containers\n",
    "- Merging containers into list / Merge dictionaries"
   ]
  },
  {
   "cell_type": "markdown",
   "metadata": {},
   "source": [
    "### Multiplication And Power Operations\n"
   ]
  },
  {
   "cell_type": "code",
   "execution_count": 1,
   "metadata": {},
   "outputs": [
    {
     "name": "stdout",
     "output_type": "stream",
     "text": [
      "35\n",
      "16\n"
     ]
    }
   ],
   "source": [
    " #multiplication\n",
    "result = 7 * 5\n",
    "print(result)\n",
    "\n",
    "# power operation\n",
    "result = 2 ** 4\n",
    "print(result)"
   ]
  }
 ],
 "metadata": {
  "kernelspec": {
   "display_name": "Python 3",
   "language": "python",
   "name": "python3"
  },
  "language_info": {
   "codemirror_mode": {
    "name": "ipython",
    "version": 3
   },
   "file_extension": ".py",
   "mimetype": "text/x-python",
   "name": "python",
   "nbconvert_exporter": "python",
   "pygments_lexer": "ipython3",
   "version": "3.8.9"
  },
  "orig_nbformat": 4
 },
 "nbformat": 4,
 "nbformat_minor": 2
}
