{
 "cells": [
  {
   "attachments": {},
   "cell_type": "markdown",
   "metadata": {},
   "source": [
    "# Lambda Functions In Python\n",
    "- A `lambda function` is a small (one line) anonymous function that is defined without a name.\n",
    "- A `lambda function` can take any number of arguments, but can only have one expression. While normal functions are defined using the `def` keyword, in Python anonymous functions are defined using the `lambda` keyword.<br>\n",
    "- <b>Syntax</b> `lambda arguments: expression`\n",
    "- Lambda functions are used when a simple function is used only once or for a short period in our code.\n",
    "- It's most common use is as an argument to higher-order functions (functions that takes in other functions as arguments). They are also used along with built-in functions like `map()`, `filter()`, `reduce()`.\n",
    "\n",
    "\n",
    "\n"
   ]
  },
  {
   "cell_type": "code",
   "execution_count": 1,
   "metadata": {},
   "outputs": [
    {
     "name": "stdout",
     "output_type": "stream",
     "text": [
      "15 110\n",
      "20 35\n"
     ]
    }
   ],
   "source": [
    "# a lambda function that adds 10 to the input argument\n",
    "f = lambda x: x+10\n",
    "val1 = f(5)\n",
    "val2 = f(100)\n",
    "print(val1, val2)\n",
    "\n",
    "# a lambda function that multiplies two input arguments and returns the result\n",
    "f = lambda x,y: x*y\n",
    "val3 = f(2,10)\n",
    "val4 = f(7,5)\n",
    "print(val3, val4)"
   ]
  }
 ],
 "metadata": {
  "kernelspec": {
   "display_name": "Python 3",
   "language": "python",
   "name": "python3"
  },
  "language_info": {
   "codemirror_mode": {
    "name": "ipython",
    "version": 3
   },
   "file_extension": ".py",
   "mimetype": "text/x-python",
   "name": "python",
   "nbconvert_exporter": "python",
   "pygments_lexer": "ipython3",
   "version": "3.8.9"
  },
  "orig_nbformat": 4
 },
 "nbformat": 4,
 "nbformat_minor": 2
}
