{
 "cells": [
  {
   "attachments": {},
   "cell_type": "markdown",
   "metadata": {},
   "source": [
    "# Lambda Functions In Python\n",
    "- A `lambda function` is a small (one line) anonymous function that is defined without a name.\n",
    "- A `lambda function` can take any number of arguments, but can only have one expression. While normal functions are defined using the `def` keyword, in Python anonymous functions are defined using the `lambda` keyword.<br>\n",
    "- <b>Syntax</b> `lambda arguments: expression`\n",
    "- Lambda functions are used when a simple function is used only once or for a short period in our code.\n",
    "- It's most common use is as an argument to higher-order functions (functions that takes in other functions as arguments). They are also used along with built-in functions like `map()`, `filter()`, `reduce()`.\n",
    "\n",
    "\n",
    "\n"
   ]
  },
  {
   "cell_type": "code",
   "execution_count": 4,
   "metadata": {},
   "outputs": [
    {
     "name": "stdout",
     "output_type": "stream",
     "text": [
      "15 110\n",
      "20 35\n"
     ]
    }
   ],
   "source": [
    "# a lambda function that adds 10 to the input argument\n",
    "f = lambda x: x+10\n",
    "val1 = f(5)\n",
    "val2 = f(100)\n",
    "print(val1, val2)\n",
    "\n",
    "# a lambda function that multiplies two input arguments and returns the result\n",
    "f = lambda x,y: x*y\n",
    "val3 = f(2,10)\n",
    "val4 = f(7,5)\n",
    "print(val3, val4)"
   ]
  },
  {
   "attachments": {},
   "cell_type": "markdown",
   "metadata": {},
   "source": [
    "#### Usage example: Lamdba inside another function\n",
    "Return a customized lambda function from another function and create different function variations depending on your needs."
   ]
  },
  {
   "cell_type": "code",
   "execution_count": 5,
   "metadata": {},
   "outputs": [
    {
     "name": "stdout",
     "output_type": "stream",
     "text": [
      "12\n",
      "18\n"
     ]
    }
   ],
   "source": [
    "def myfunc(n):\n",
    "    return lambda x: x * n\n",
    "doubler = myfunc(2)\n",
    "print(doubler(6))\n",
    "\n",
    "tripler = myfunc(3)\n",
    "print(tripler(6))"
   ]
  },
  {
   "attachments": {},
   "cell_type": "markdown",
   "metadata": {},
   "source": [
    "#### Custom Sorting Using a Lambda Function as key parameter\n",
    "The key function transforms each element before sorting."
   ]
  },
  {
   "cell_type": "code",
   "execution_count": 6,
   "metadata": {},
   "outputs": [
    {
     "name": "stdout",
     "output_type": "stream",
     "text": [
      "[(5, -3), (4, 1), (10, 2), (1, 9)]\n",
      "[-1, 1, -2, 2, -3, 3, -4, 4]\n"
     ]
    }
   ],
   "source": [
    "points2D = [(1, 9), (4, 1), (5, -3), (10, 2)]\n",
    "sorted_by_y = sorted(points2D, key= lambda x: x[1])\n",
    "print(sorted_by_y)\n",
    "\n",
    "mylist = [- 1, -4, -2, -3, 1, 2, 3, 4]\n",
    "sorted_by_abs = sorted(mylist, key= lambda x: abs(x))\n",
    "print(sorted_by_abs)"
   ]
  }
 ],
 "metadata": {
  "kernelspec": {
   "display_name": "Python 3",
   "language": "python",
   "name": "python3"
  },
  "language_info": {
   "codemirror_mode": {
    "name": "ipython",
    "version": 3
   },
   "file_extension": ".py",
   "mimetype": "text/x-python",
   "name": "python",
   "nbconvert_exporter": "python",
   "pygments_lexer": "ipython3",
   "version": "3.8.9"
  },
  "orig_nbformat": 4
 },
 "nbformat": 4,
 "nbformat_minor": 2
}
