{
 "cells": [
  {
   "attachments": {},
   "cell_type": "markdown",
   "metadata": {},
   "source": [
    "# Tuples In Python"
   ]
  },
  {
   "attachments": {},
   "cell_type": "markdown",
   "metadata": {},
   "source": [
    "A tuple is a collection of objects which is ordered and immutable. Tuples are similar to lists, the main difference ist the immutability. In Python tuples are written with round brackets and comma separated values.\n",
    "`my_tuple = (\"Max\", 28, \"New York\")`\n",
    "\n",
    "#### Advantage of Tuples over Lists\n",
    "- Generally used for objects that belong together.\n",
    "- Use tuple for heterogeneous (different) datatypes and list for homogeneous (similar) datatypes.\n",
    "- Since tuple are immutable, iterating through tuple is slightly faster than with list.\n",
    "- Tuples with their immutable elements can be used as key for a dictionary. This is not possible with lists.\n",
    "- If you have data that doesn't change, implementing it as tuple will guarantee that it remains write-protected.\n"
   ]
  },
  {
   "attachments": {},
   "cell_type": "markdown",
   "metadata": {},
   "source": []
  }
 ],
 "metadata": {
  "language_info": {
   "name": "python"
  },
  "orig_nbformat": 4
 },
 "nbformat": 4,
 "nbformat_minor": 2
}
