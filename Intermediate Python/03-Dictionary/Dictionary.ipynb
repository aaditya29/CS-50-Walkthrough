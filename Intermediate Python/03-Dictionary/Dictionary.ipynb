{
 "cells": [
  {
   "attachments": {},
   "cell_type": "markdown",
   "metadata": {},
   "source": [
    "# Dictionaries In Python\n",
    "\n",
    "A dictionary is a collection which is unordered, changeable and indexed. A dictionary consists of a collection of key-value pairs. Each key-value pair maps the key to its associated value. A dictionary is written in braces. Each key is separated from its value by a colon (:), and the items are separated by commas.<br>\n",
    "`my_dict = {\"name\":\"Max\", \"age\":28, \"city\":\"New York\"}`"
   ]
  },
  {
   "attachments": {},
   "cell_type": "markdown",
   "metadata": {},
   "source": [
    "#### Creating A Dictionary \n",
    "Create a dictionary with braces, or with the built-in dict funtion."
   ]
  },
  {
   "cell_type": "code",
   "execution_count": 53,
   "metadata": {},
   "outputs": [
    {
     "name": "stdout",
     "output_type": "stream",
     "text": [
      "{'name': 'Max', 'age': 28, 'city': 'New York'}\n",
      "{'name': 'Lisa', 'age': 27, 'city': 'Boston'}\n"
     ]
    }
   ],
   "source": [
    "my_dict = {\"name\":\"Max\", \"age\":28, \"city\":\"New York\"}\n",
    "print(my_dict)\n",
    "\n",
    "# or we can use the dict constructor\n",
    "# note: no quotes necessary for keys when using constructor dict\n",
    "my_dict_2 = dict(name=\"Lisa\", age=27, city=\"Boston\")\n",
    "print(my_dict_2)\n"
   ]
  },
  {
   "attachments": {},
   "cell_type": "markdown",
   "metadata": {},
   "source": [
    "#### Accessing Items In Dict"
   ]
  },
  {
   "cell_type": "code",
   "execution_count": 54,
   "metadata": {},
   "outputs": [
    {
     "name": "stdout",
     "output_type": "stream",
     "text": [
      "Max\n"
     ]
    }
   ],
   "source": [
    "name_in_dict = my_dict[\"name\"]\n",
    "print(name_in_dict)\n",
    "# Note: Python gives KeyError if no key is found"
   ]
  },
  {
   "attachments": {},
   "cell_type": "markdown",
   "metadata": {},
   "source": [
    "#### Add and change items\n",
    "Simply we can add or access a key and assign the value."
   ]
  },
  {
   "cell_type": "code",
   "execution_count": 55,
   "metadata": {},
   "outputs": [
    {
     "name": "stdout",
     "output_type": "stream",
     "text": [
      "{'name': 'Max', 'age': 28, 'city': 'New York', 'email': 'max@xyz.com'}\n",
      "{'name': 'Max', 'age': 28, 'city': 'New York', 'email': 'coolmax@xyz.com'}\n"
     ]
    }
   ],
   "source": [
    "# adding a new key\n",
    "my_dict[\"email\"] = \"max@xyz.com\"\n",
    "print(my_dict)\n",
    "\n",
    "# we can overwrite now existing key\n",
    "my_dict[\"email\"] = \"coolmax@xyz.com\"\n",
    "print(my_dict)"
   ]
  },
  {
   "attachments": {},
   "cell_type": "markdown",
   "metadata": {},
   "source": [
    "#### Deleting Items in Dict"
   ]
  },
  {
   "cell_type": "code",
   "execution_count": 56,
   "metadata": {},
   "outputs": [
    {
     "name": "stdout",
     "output_type": "stream",
     "text": [
      "Popped Value: 28\n",
      "Popped item: ('city', 'New York')\n",
      "{'name': 'Max'}\n"
     ]
    }
   ],
   "source": [
    "# Deleting a key-value pair from the dictionary\n",
    "del my_dict[\"email\"]\n",
    "\n",
    "# This returns the value and the key-value pair\n",
    "print(\"Popped Value:\", my_dict.pop(\"age\"))\n",
    "\n",
    "# Following statement returns and removes the last inserted key-value pair\n",
    "print(\"Popped item:\", my_dict.popitem())\n",
    "\n",
    "print(my_dict)\n",
    "\n",
    "# clear() function removes all pair\n",
    "# my_dict.clear()"
   ]
  },
  {
   "attachments": {},
   "cell_type": "markdown",
   "metadata": {},
   "source": [
    "#### Checking For Keys\n"
   ]
  },
  {
   "cell_type": "code",
   "execution_count": 57,
   "metadata": {},
   "outputs": [
    {
     "name": "stdout",
     "output_type": "stream",
     "text": [
      "Max\n",
      "No key found\n"
     ]
    }
   ],
   "source": [
    "my_dict = {\"name\":\"Max\", \"age\":28, \"city\":\"New York\"}\n",
    "# use if .. in ..\n",
    "if \"name\" in my_dict:\n",
    "    print(my_dict[\"name\"])\n",
    "\n",
    "# use try except\n",
    "try:\n",
    "    print(my_dict[\"firstname\"])\n",
    "except KeyError:\n",
    "    print(\"No key found\")"
   ]
  },
  {
   "attachments": {},
   "cell_type": "markdown",
   "metadata": {},
   "source": [
    "#### Iterating Through Dictionary"
   ]
  },
  {
   "cell_type": "code",
   "execution_count": 58,
   "metadata": {},
   "outputs": [
    {
     "name": "stdout",
     "output_type": "stream",
     "text": [
      "name Max\n",
      "age 28\n",
      "city New York\n",
      "name\n",
      "age\n",
      "city\n",
      "Max\n",
      "28\n",
      "New York\n",
      "name Max\n",
      "age 28\n",
      "city New York\n"
     ]
    }
   ],
   "source": [
    "# loop over keys\n",
    "for key in my_dict:\n",
    "    print(key, my_dict[key])\n",
    "\n",
    "# loop over keys\n",
    "for key in my_dict.keys():\n",
    "    print(key)\n",
    "\n",
    "# loop over values\n",
    "for value in my_dict.values():\n",
    "    print(value)\n",
    "\n",
    "# loop over keys and values\n",
    "for key, value in my_dict.items():\n",
    "    print(key, value)"
   ]
  },
  {
   "attachments": {},
   "cell_type": "markdown",
   "metadata": {},
   "source": [
    "#### Copy a dictionary\n",
    "Be careful when copying references.\n"
   ]
  },
  {
   "cell_type": "code",
   "execution_count": 59,
   "metadata": {},
   "outputs": [
    {
     "name": "stdout",
     "output_type": "stream",
     "text": [
      "{'name': 'Lisa', 'age': 28, 'city': 'New York'}\n",
      "{'name': 'Lisa', 'age': 28, 'city': 'New York'}\n",
      "{'name': 'Lisa', 'age': 28, 'city': 'New York'}\n",
      "{'name': 'Max', 'age': 28, 'city': 'New York'}\n"
     ]
    }
   ],
   "source": [
    "dict_org = {\"name\":\"Max\", \"age\":28, \"city\":\"New York\"}\n",
    "\n",
    "# Copying reference to the dict\n",
    "dict_copy = dict_org\n",
    "\n",
    "# Modifying the copy of the dict\n",
    "# Note: It also affects the original dict\n",
    "dict_copy[\"name\"] = \"Lisa\"\n",
    "print(dict_copy)\n",
    "print(dict_org)\n",
    "\n",
    "# using copy(), or dict(x) to actually copy the dict\n",
    "dict_org = {\"name\":\"Max\", \"age\":28, \"city\":\"New York\"}\n",
    "dict_copy = dict_org.copy()\n",
    "# or we can also write: dict_copy = dict(dict_org)\n",
    "\n",
    "# Now modifying the copy doesn't effects the original\n",
    "dict_copy[\"name\"] = \"Lisa\"\n",
    "print(dict_copy)\n",
    "print(dict_org)"
   ]
  },
  {
   "attachments": {},
   "cell_type": "markdown",
   "metadata": {},
   "source": [
    "#### Merging Two Dictionaries\n"
   ]
  },
  {
   "cell_type": "code",
   "execution_count": 60,
   "metadata": {},
   "outputs": [
    {
     "name": "stdout",
     "output_type": "stream",
     "text": [
      "{'name': 'Lisa', 'age': 27, 'email': 'max@xyz.com', 'city': 'Boston'}\n"
     ]
    }
   ],
   "source": [
    "# Use the update() method to merge 2 dicts\n",
    "# existing keys are overwritten, new keys are added\n",
    "my_dict = {\"name\":\"Max\", \"age\":28, \"email\":\"max@xyz.com\"}\n",
    "my_dict_2 = dict(name=\"Lisa\", age=27, city=\"Boston\")\n",
    "\n",
    "my_dict.update(my_dict_2)\n",
    "print(my_dict)"
   ]
  },
  {
   "attachments": {},
   "cell_type": "markdown",
   "metadata": {},
   "source": [
    "#### Possible key Types\n",
    "Any immutable type, like strings or numbers can be used as a key. Also, a tuple can be used if it contains only immutable elements."
   ]
  },
  {
   "cell_type": "code",
   "execution_count": 61,
   "metadata": {},
   "outputs": [
    {
     "name": "stdout",
     "output_type": "stream",
     "text": [
      "9 36 81\n",
      "15\n"
     ]
    }
   ],
   "source": [
    "# Using number as key with caution\n",
    "my_dict = {3: 9, 6: 36, 9:81}\n",
    "\n",
    "# do not mistake the keys as indices of a list, e.g my_dict[0] is not possible here\n",
    "print(my_dict[3], my_dict[6], my_dict[9])\n",
    "\n",
    "# Using a tuple with immutable elements. For example, number, string\n",
    "my_tuple = (8, 7)\n",
    "my_dict = {my_tuple: 15}\n",
    "\n",
    "print(my_dict[my_tuple])"
   ]
  },
  {
   "attachments": {},
   "cell_type": "markdown",
   "metadata": {},
   "source": [
    "#### Nested dictionaries\n",
    "The values can also be container types (e.g. lists, tuples, dictionaries)."
   ]
  },
  {
   "cell_type": "code",
   "execution_count": 62,
   "metadata": {},
   "outputs": [
    {
     "name": "stdout",
     "output_type": "stream",
     "text": [
      "{'dictA': {'name': 'Max', 'age': 28}, 'dictB': {'name': 'Alex', 'age': 25}}\n"
     ]
    }
   ],
   "source": [
    "my_dict_1 = {\"name\": \"Max\", \"age\": 28}\n",
    "my_dict_2 = {\"name\": \"Alex\", \"age\": 25}\n",
    "nested_dict = {\"dictA\": my_dict_1,\n",
    "               \"dictB\": my_dict_2}\n",
    "print(nested_dict)"
   ]
  }
 ],
 "metadata": {
  "kernelspec": {
   "display_name": "Python 3",
   "language": "python",
   "name": "python3"
  },
  "language_info": {
   "codemirror_mode": {
    "name": "ipython",
    "version": 3
   },
   "file_extension": ".py",
   "mimetype": "text/x-python",
   "name": "python",
   "nbconvert_exporter": "python",
   "pygments_lexer": "ipython3",
   "version": "3.8.9"
  },
  "orig_nbformat": 4
 },
 "nbformat": 4,
 "nbformat_minor": 2
}
