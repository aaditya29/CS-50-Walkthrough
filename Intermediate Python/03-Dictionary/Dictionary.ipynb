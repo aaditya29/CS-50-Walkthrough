{
 "cells": [
  {
   "attachments": {},
   "cell_type": "markdown",
   "metadata": {},
   "source": [
    "# Dictionaries In Python\n",
    "\n",
    "A dictionary is a collection which is unordered, changeable and indexed. A dictionary consists of a collection of key-value pairs. Each key-value pair maps the key to its associated value. A dictionary is written in braces. Each key is separated from its value by a colon (:), and the items are separated by commas.<br>\n",
    "`my_dict = {\"name\":\"Max\", \"age\":28, \"city\":\"New York\"}`"
   ]
  },
  {
   "attachments": {},
   "cell_type": "markdown",
   "metadata": {},
   "source": [
    "#### Creating A Dictionary \n",
    "Create a dictionary with braces, or with the built-in dict funtion."
   ]
  },
  {
   "cell_type": "code",
   "execution_count": 2,
   "metadata": {},
   "outputs": [
    {
     "name": "stdout",
     "output_type": "stream",
     "text": [
      "{'name': 'Max', 'age': 28, 'city': 'New York'}\n",
      "{'name': 'Lisa', 'age': 27, 'city': 'Boston'}\n"
     ]
    }
   ],
   "source": [
    "my_dict = {\"name\":\"Max\", \"age\":28, \"city\":\"New York\"}\n",
    "print(my_dict)\n",
    "\n",
    "# or we can use the dict constructor\n",
    "# note: no quotes necessary for keys when using constructor dict\n",
    "my_dict_2 = dict(name=\"Lisa\", age=27, city=\"Boston\")\n",
    "print(my_dict_2)\n"
   ]
  },
  {
   "attachments": {},
   "cell_type": "markdown",
   "metadata": {},
   "source": [
    "#### Accessing Items In Dict"
   ]
  },
  {
   "cell_type": "code",
   "execution_count": 3,
   "metadata": {},
   "outputs": [
    {
     "name": "stdout",
     "output_type": "stream",
     "text": [
      "Max\n"
     ]
    }
   ],
   "source": [
    "name_in_dict = my_dict[\"name\"]\n",
    "print(name_in_dict)\n",
    "# Note: Python gives KeyError if no key is found"
   ]
  },
  {
   "attachments": {},
   "cell_type": "markdown",
   "metadata": {},
   "source": [
    "#### Add and change items\n",
    "Simply we can add or access a key and assign the value."
   ]
  },
  {
   "cell_type": "code",
   "execution_count": 4,
   "metadata": {},
   "outputs": [
    {
     "name": "stdout",
     "output_type": "stream",
     "text": [
      "{'name': 'Max', 'age': 28, 'city': 'New York', 'email': 'max@xyz.com'}\n",
      "{'name': 'Max', 'age': 28, 'city': 'New York', 'email': 'coolmax@xyz.com'}\n"
     ]
    }
   ],
   "source": [
    "# adding a new key\n",
    "my_dict[\"email\"] = \"max@xyz.com\"\n",
    "print(my_dict)\n",
    "\n",
    "# we can overwrite now existing key\n",
    "my_dict[\"email\"] = \"coolmax@xyz.com\"\n",
    "print(my_dict)"
   ]
  }
 ],
 "metadata": {
  "kernelspec": {
   "display_name": "Python 3",
   "language": "python",
   "name": "python3"
  },
  "language_info": {
   "codemirror_mode": {
    "name": "ipython",
    "version": 3
   },
   "file_extension": ".py",
   "mimetype": "text/x-python",
   "name": "python",
   "nbconvert_exporter": "python",
   "pygments_lexer": "ipython3",
   "version": "3.8.9"
  },
  "orig_nbformat": 4
 },
 "nbformat": 4,
 "nbformat_minor": 2
}
