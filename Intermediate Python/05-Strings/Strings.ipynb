{
 "cells": [
  {
   "attachments": {},
   "cell_type": "markdown",
   "metadata": {},
   "source": [
    "# Strings In Python\n",
    "\n",
    "A string is a sequence of characters. String literals in Python are enclosed by either double or single quotes. <br>\n",
    "`my_string = 'Hello'`<br>\n",
    "Python strings are immutable which means they cannot be changed after they are created"
   ]
  },
  {
   "attachments": {},
   "cell_type": "markdown",
   "metadata": {},
   "source": [
    "#### Creating String"
   ]
  },
  {
   "cell_type": "code",
   "execution_count": 1,
   "metadata": {},
   "outputs": [
    {
     "name": "stdout",
     "output_type": "stream",
     "text": [
      "I' m a 'Geek'\n",
      "Hello\n",
      "World\n",
      "Hello World\n"
     ]
    }
   ],
   "source": [
    "# use singe or double quotes\n",
    "my_string = 'Hello'\n",
    "my_string = \"Hello\"\n",
    "my_string = \"I' m  a 'Geek'\"\n",
    "\n",
    "# escaping backslash\n",
    "my_string = 'I\\' m  a \"Geek\"'\n",
    "my_string = 'I\\' m a \\'Geek\\''\n",
    "print(my_string)\n",
    "\n",
    "# triple quotes for multiline strings\n",
    "my_string = \"\"\"Hello\n",
    "World\"\"\"\n",
    "print(my_string)\n",
    "\n",
    "# backslash if you want to continue in the next line\n",
    "my_string = \"Hello \\\n",
    "World\"\n",
    "print(my_string)"
   ]
  },
  {
   "cell_type": "code",
   "execution_count": null,
   "metadata": {},
   "outputs": [],
   "source": []
  }
 ],
 "metadata": {
  "kernelspec": {
   "display_name": "Python 3",
   "language": "python",
   "name": "python3"
  },
  "language_info": {
   "codemirror_mode": {
    "name": "ipython",
    "version": 3
   },
   "file_extension": ".py",
   "mimetype": "text/x-python",
   "name": "python",
   "nbconvert_exporter": "python",
   "pygments_lexer": "ipython3",
   "version": "3.8.9"
  },
  "orig_nbformat": 4
 },
 "nbformat": 4,
 "nbformat_minor": 2
}
