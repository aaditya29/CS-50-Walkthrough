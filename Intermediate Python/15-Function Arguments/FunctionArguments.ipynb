{
 "cells": [
  {
   "cell_type": "markdown",
   "metadata": {},
   "source": [
    "# Function Arguments\n",
    "In this notebook we will talk about function parameters and function arguments in detail. We will see following topics:\n",
    "- The difference between arguments and parameters\n",
    "- Positional and keyword arguments\n",
    "- Default arguments\n",
    "- Variable-length arguments (`*args` and `**kwargs`)\n",
    "- Container unpacking into function arguments\n",
    "- Local vs. global arguments\n",
    "- Parameter passing (by value or by reference?)"
   ]
  },
  {
   "cell_type": "markdown",
   "metadata": {},
   "source": [
    "#### Arguments Parameter\n",
    "- Parameters are the variables that are defined or used inside parentheses while defining a function\n",
    "- Arguments are the value passed for these parameters while calling a function"
   ]
  },
  {
   "cell_type": "code",
   "execution_count": 1,
   "metadata": {},
   "outputs": [
    {
     "name": "stdout",
     "output_type": "stream",
     "text": [
      "Alex\n"
     ]
    }
   ],
   "source": [
    "def print_name(name): # name is the parameter\n",
    "    print(name)\n",
    "\n",
    "print_name('Alex') # 'Alex' is the argument"
   ]
  }
 ],
 "metadata": {
  "kernelspec": {
   "display_name": "Python 3",
   "language": "python",
   "name": "python3"
  },
  "language_info": {
   "codemirror_mode": {
    "name": "ipython",
    "version": 3
   },
   "file_extension": ".py",
   "mimetype": "text/x-python",
   "name": "python",
   "nbconvert_exporter": "python",
   "pygments_lexer": "ipython3",
   "version": "3.8.9"
  },
  "orig_nbformat": 4
 },
 "nbformat": 4,
 "nbformat_minor": 2
}
