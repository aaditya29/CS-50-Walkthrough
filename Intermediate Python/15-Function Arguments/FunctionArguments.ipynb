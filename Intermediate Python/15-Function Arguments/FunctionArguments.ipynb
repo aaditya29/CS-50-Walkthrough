{
 "cells": [
  {
   "cell_type": "markdown",
   "metadata": {},
   "source": [
    "# Function Arguments\n",
    "In this notebook we will talk about function parameters and function arguments in detail. We will see following topics:\n",
    "- The difference between arguments and parameters\n",
    "- Positional and keyword arguments\n",
    "- Default arguments\n",
    "- Variable-length arguments (`*args` and `**kwargs`)\n",
    "- Container unpacking into function arguments\n",
    "- Local vs. global arguments\n",
    "- Parameter passing (by value or by reference?)"
   ]
  },
  {
   "cell_type": "markdown",
   "metadata": {},
   "source": [
    "#### Arguments Parameter\n",
    "- Parameters are the variables that are defined or used inside parentheses while defining a function\n",
    "- Arguments are the value passed for these parameters while calling a function"
   ]
  },
  {
   "cell_type": "code",
   "execution_count": 1,
   "metadata": {},
   "outputs": [
    {
     "name": "stdout",
     "output_type": "stream",
     "text": [
      "Alex\n"
     ]
    }
   ],
   "source": [
    "def print_name(name): # name is the parameter\n",
    "    print(name)\n",
    "\n",
    "print_name('Alex') # 'Alex' is the argument"
   ]
  },
  {
   "cell_type": "markdown",
   "metadata": {},
   "source": [
    "#### Positional And Keyword Arguments\n",
    "We can pass arguments as positional or keyword arguments. Some benefits of keyword arguments can be:\n",
    "- We can call arguments by their names to make it more clear what they represent\n",
    "- We can rearrange arguments in a way that makes them most readable"
   ]
  },
  {
   "cell_type": "code",
   "execution_count": 2,
   "metadata": {},
   "outputs": [
    {
     "name": "stdout",
     "output_type": "stream",
     "text": [
      "1 2 3\n",
      "1 2 3\n",
      "1 2 3\n",
      "1 2 3\n"
     ]
    }
   ],
   "source": [
    "def foo(a, b, c):\n",
    "    print(a, b, c)\n",
    "    \n",
    "# positional arguments\n",
    "foo(1, 2, 3)\n",
    "\n",
    "# keyword arguments\n",
    "foo(a=1, b=2, c=3)\n",
    "foo(c=3, b=2, a=1) # Note that the order is not important here\n",
    "\n",
    "# mix of both\n",
    "foo(1, b=2, c=3)\n",
    "\n",
    "# This is not allowed:\n",
    "# foo(1, b=2, 3) # positional argument after keyword argument\n",
    "# foo(1, b=2, a=3) # multiple values for argument 'a'\n"
   ]
  },
  {
   "cell_type": "markdown",
   "metadata": {},
   "source": [
    "#### Default Arguments\n",
    "Functions can have default arguments with a predefined value. This argument can be left out and the default value is then passed to the function, or the argument can be used with a different value.<br>\n",
    "<b>Note:</b> Default arguments must be defined as the last parameters in a function."
   ]
  },
  {
   "cell_type": "code",
   "execution_count": 3,
   "metadata": {},
   "outputs": [
    {
     "name": "stdout",
     "output_type": "stream",
     "text": [
      "1 2 3 4\n",
      "1 2 3 100\n"
     ]
    }
   ],
   "source": [
    "# Default Arguments\n",
    "def foo(a, b, c, d=4):\n",
    "    print(a, b, c, d)\n",
    "\n",
    "foo(1, 2, 3, 4)\n",
    "foo(1, b=2, c=3, d=100)\n",
    "\n",
    "# not allowed: default arguments must be at the end\n",
    "# def foo(a, b=2, c, d=4):\n",
    "#print(a, b, c, d)"
   ]
  },
  {
   "cell_type": "markdown",
   "metadata": {},
   "source": [
    "#### Variable-length arguments (*args and **kwargs)\n",
    "- If we mark a parameter with one asterisk (`*`), we can pass any number of positional arguments to your function (Typically called `*args`)\n",
    "- If we mark a parameter with two asterisks (`**`), you can pass any number of keyword arguments to this function (Typically called `**kwargs`)."
   ]
  },
  {
   "cell_type": "code",
   "execution_count": 5,
   "metadata": {},
   "outputs": [
    {
     "name": "stdout",
     "output_type": "stream",
     "text": [
      "1 2\n",
      "3\n",
      "4\n",
      "5\n",
      "six 6\n",
      "seven 7\n",
      "\n",
      "1 2\n",
      "three 3\n"
     ]
    }
   ],
   "source": [
    "\"\"\"\n",
    "def foo(a, b, *args, **kwargs):\n",
    "    print(a, b)\n",
    "    for arg in args:\n",
    "        print(arg)\n",
    "    for kwarg in kwargs:\n",
    "        print(kwarg, kwargs[kwarg])\n",
    "\"\"\"\n",
    "def foo(a, b, *args, **kwargs):\n",
    "    print(a, b)\n",
    "    for arg in args:\n",
    "        print(arg)\n",
    "    for kwarg in kwargs:\n",
    "        print(kwarg, kwargs[kwarg])\n",
    "# 3, 4, 5 are combined into args while six and seven are combined into kwargs\n",
    "foo(1, 2, 3, 4, 5, six=6, seven=7)\n",
    "print()\n",
    "\n",
    "# we can also omit args and kwargs\n",
    "foo(1,2, three=3)"
   ]
  }
 ],
 "metadata": {
  "kernelspec": {
   "display_name": "Python 3",
   "language": "python",
   "name": "python3"
  },
  "language_info": {
   "codemirror_mode": {
    "name": "ipython",
    "version": 3
   },
   "file_extension": ".py",
   "mimetype": "text/x-python",
   "name": "python",
   "nbconvert_exporter": "python",
   "pygments_lexer": "ipython3",
   "version": "3.8.9"
  },
  "orig_nbformat": 4
 },
 "nbformat": 4,
 "nbformat_minor": 2
}
