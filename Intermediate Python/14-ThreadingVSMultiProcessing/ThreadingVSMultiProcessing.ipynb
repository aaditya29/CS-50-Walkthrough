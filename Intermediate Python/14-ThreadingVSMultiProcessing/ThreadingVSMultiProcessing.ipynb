{
 "cells": [
  {
   "cell_type": "markdown",
   "metadata": {},
   "source": [
    "# Threading vs Multiprocessing\n",
    "- We have two common approaches to run code in parallel (achieve multitasking and speed up your program): via threads or via multiple processes.\n"
   ]
  },
  {
   "cell_type": "markdown",
   "metadata": {},
   "source": [
    "### Processes\n",
    "A Process is an instance of a program, e.g. a Python interpreter. They are independent from each other and do not share the same memory."
   ]
  },
  {
   "cell_type": "markdown",
   "metadata": {},
   "source": [
    "#### Facts About Processes\n",
    "- A new process is started independently from the first process\n",
    "- Takes advantage of multiple CPUs and cores\n",
    "- Separate memory space\n",
    "- Memory is not shared between processes\n",
    "- One GIL (Global interpreter lock) for each process, i.e. avoids GIL limitation\n",
    "- Great for CPU-bound processing\n",
    "- Child processes are interruptable/killable\n",
    "- Starting a process is slower that starting a thread\n",
    "- Larger memory footprint\n",
    "- IPC (inter-process communication) is more complicated"
   ]
  },
  {
   "cell_type": "markdown",
   "metadata": {},
   "source": [
    "### Threads\n",
    "A thread is an entity within a process that can be scheduled for execution (Also known as \"leightweight process\"). A Process can spawn multiple threads. The main difference is that all threads within a process share the same memory."
   ]
  },
  {
   "cell_type": "markdown",
   "metadata": {},
   "source": [
    "#### Facts About Threads\n",
    "- Multiple threads can be spawned within one process.\n",
    "- Memory is shared between all threads.\n",
    "- Starting a thread is faster than starting a process.\n",
    "- Great for I/O-bound tasks.\n",
    "- Lightweight - low memory footprint\n",
    "- One GIL for all threads, i.e. threads are limited by GIL\n",
    "- Multithreading has no effect for CPU-bound tasks due to the GIL\n",
    "- Not interruptible/killable -> be careful with memory leaks\n",
    "- Increased potential for race conditions"
   ]
  },
  {
   "cell_type": "code",
   "execution_count": null,
   "metadata": {},
   "outputs": [],
   "source": []
  }
 ],
 "metadata": {
  "language_info": {
   "name": "python"
  },
  "orig_nbformat": 4
 },
 "nbformat": 4,
 "nbformat_minor": 2
}
