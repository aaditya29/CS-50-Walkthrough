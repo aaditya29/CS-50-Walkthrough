{
 "cells": [
  {
   "cell_type": "markdown",
   "metadata": {},
   "source": [
    "# Threading vs Multiprocessing\n",
    "- We have two common approaches to run code in parallel (achieve multitasking and speed up your program): via threads or via multiple processes.\n"
   ]
  },
  {
   "cell_type": "markdown",
   "metadata": {},
   "source": [
    "### Processes\n",
    "A Process is an instance of a program, e.g. a Python interpreter. They are independent from each other and do not share the same memory."
   ]
  },
  {
   "cell_type": "markdown",
   "metadata": {},
   "source": [
    "#### Facts About Processes\n",
    "- A new process is started independently from the first process\n",
    "- Takes advantage of multiple CPUs and cores\n",
    "- Separate memory space\n",
    "- Memory is not shared between processes\n",
    "- One GIL (Global interpreter lock) for each process, i.e. avoids GIL limitation\n",
    "- Great for CPU-bound processing\n",
    "- Child processes are interruptable/killable\n",
    "- Starting a process is slower that starting a thread\n",
    "- Larger memory footprint\n",
    "- IPC (inter-process communication) is more complicated"
   ]
  },
  {
   "cell_type": "code",
   "execution_count": null,
   "metadata": {},
   "outputs": [],
   "source": []
  }
 ],
 "metadata": {
  "language_info": {
   "name": "python"
  },
  "orig_nbformat": 4
 },
 "nbformat": 4,
 "nbformat_minor": 2
}
