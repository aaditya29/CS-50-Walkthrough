{
 "cells": [
  {
   "attachments": {},
   "cell_type": "markdown",
   "metadata": {},
   "source": [
    "# Collections In Python\n",
    "\n",
    "The collections module in Python implements specialized container datatypes providing alternatives to Python’s general purpose built-in containers, dict, list, set, and tuple.<br>\n",
    "\n",
    "Following are some most useful tools of Containers:\n",
    "- `namedtuple` : factory function for creating tuple subclasses with named fields\n",
    "- `OrderedDict` : dict subclass that remembers the order entries were added\n",
    "- `Counter` : dict subclass for counting hashable objects\n",
    "- `defaultdict` : dict subclass that calls a factory function to supply missing values\n",
    "- `deque` : list-like container with fast appends and pops on either end <br>\n",
    "\n",
    "In Python 3 some more modules exist (ChainMap, UserDict, UserList, UserString).<br>"
   ]
  },
  {
   "attachments": {},
   "cell_type": "markdown",
   "metadata": {},
   "source": [
    "#### Counter\n",
    "A counter is a container that stores elements as dictionary keys, and their counts are stored as dictionary values"
   ]
  },
  {
   "cell_type": "code",
   "execution_count": 5,
   "metadata": {},
   "outputs": [
    {
     "name": "stdout",
     "output_type": "stream",
     "text": [
      "Counter({'a': 5, 'b': 4, 'c': 3, 'd': 2, 'e': 1})\n",
      "dict_items([('a', 5), ('b', 4), ('c', 3), ('d', 2), ('e', 1)])\n",
      "dict_keys(['a', 'b', 'c', 'd', 'e'])\n",
      "dict_values([5, 4, 3, 2, 1])\n",
      "Counter({1: 4, 2: 3, 0: 2, 3: 2, 4: 1})\n",
      "[(1, 4)]\n",
      "[0, 0, 1, 1, 1, 1, 2, 2, 2, 3, 3, 4]\n"
     ]
    }
   ],
   "source": [
    "from collections import Counter\n",
    "a = \"aaaaabbbbcccdde\"\n",
    "my_counter = Counter(a)\n",
    "print(my_counter)\n",
    "\n",
    "print(my_counter.items())# Key value pair of items as dict\n",
    "print(my_counter.keys())# Keys of dict\n",
    "print(my_counter.values()) # Values of item as dict\n",
    "\n",
    "\n",
    "my_list = [0, 1, 0, 1, 2, 1, 1, 3, 2, 3, 2, 4]\n",
    "my_counter = Counter(my_list)\n",
    "print(my_counter)\n",
    "\n",
    "# most common items\n",
    "print(my_counter.most_common(1))\n",
    "\n",
    "# Return an iterator over elements repeating each as many times as its count. \n",
    "# Elements are returned in arbitrary order.\n",
    "print(list(my_counter.elements()))"
   ]
  },
  {
   "attachments": {},
   "cell_type": "markdown",
   "metadata": {},
   "source": [
    "#### namedtuple\n",
    "\n",
    "- `namedtuples` are easy to create, lightweight object types.\n",
    "- They assign meaning to each position in a tuple and allow for more readable, self-documenting code.\n",
    "- They can be used wherever regular tuples are used, and they add the ability to access fields by name instead of position index.\n",
    "\n"
   ]
  },
  {
   "cell_type": "code",
   "execution_count": 6,
   "metadata": {},
   "outputs": [
    {
     "name": "stdout",
     "output_type": "stream",
     "text": [
      "Point(x=1, y=-4)\n",
      "('x', 'y')\n",
      "<class '__main__.Point'>\n",
      "1 -4\n",
      "Tom 25\n"
     ]
    }
   ],
   "source": [
    "from collections import namedtuple\n",
    "\n",
    "#Creating a 2D Point with name 'point'\n",
    "#First argument is class name which is same as name 'Point' and second argument is another string where we use all the different fields we want separated by commas or spaces\n",
    "Point = namedtuple('Point','x, y')\n",
    "pt = Point(1, -4)# Assigning value\n",
    "print(pt)# Printing value\n",
    "print(pt._fields)#Accessing valye\n",
    "print(type(pt))\n",
    "print(pt.x, pt.y)#Printing accessed value\n",
    "\n",
    "# Another namedtuple with name 'Person'\n",
    "Person = namedtuple('Person','name, age')\n",
    "friend = Person(name='Tom', age=25)\n",
    "print(friend.name, friend.age)"
   ]
  }
 ],
 "metadata": {
  "kernelspec": {
   "display_name": "Python 3",
   "language": "python",
   "name": "python3"
  },
  "language_info": {
   "codemirror_mode": {
    "name": "ipython",
    "version": 3
   },
   "file_extension": ".py",
   "mimetype": "text/x-python",
   "name": "python",
   "nbconvert_exporter": "python",
   "pygments_lexer": "ipython3",
   "version": "3.8.9"
  },
  "orig_nbformat": 4
 },
 "nbformat": 4,
 "nbformat_minor": 2
}
