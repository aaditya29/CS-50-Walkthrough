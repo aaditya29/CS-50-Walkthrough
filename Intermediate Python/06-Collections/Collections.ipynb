{
 "cells": [
  {
   "attachments": {},
   "cell_type": "markdown",
   "metadata": {},
   "source": [
    "# Collections In Python\n",
    "\n",
    "The collections module in Python implements specialized container datatypes providing alternatives to Python’s general purpose built-in containers, dict, list, set, and tuple.<br>\n",
    "\n",
    "Following are some most useful tools of Containers:\n",
    "- `namedtuple` : factory function for creating tuple subclasses with named fields\n",
    "- `OrderedDict` : dict subclass that remembers the order entries were added\n",
    "- `Counter` : dict subclass for counting hashable objects\n",
    "- `defaultdict` : dict subclass that calls a factory function to supply missing values\n",
    "- `deque` : list-like container with fast appends and pops on either end"
   ]
  },
  {
   "cell_type": "code",
   "execution_count": null,
   "metadata": {},
   "outputs": [],
   "source": []
  }
 ],
 "metadata": {
  "language_info": {
   "name": "python"
  },
  "orig_nbformat": 4
 },
 "nbformat": 4,
 "nbformat_minor": 2
}
