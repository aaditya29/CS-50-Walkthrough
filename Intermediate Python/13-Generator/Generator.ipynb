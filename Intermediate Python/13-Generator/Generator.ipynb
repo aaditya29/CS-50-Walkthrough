{
 "cells": [
  {
   "attachments": {},
   "cell_type": "markdown",
   "metadata": {},
   "source": [
    "# Generators In Python"
   ]
  },
  {
   "attachments": {},
   "cell_type": "markdown",
   "metadata": {},
   "source": [
    "### Creating Legacy Iterator\n",
    "Legacy iterators are built by using the `next()` and `iter()` functions."
   ]
  },
  {
   "cell_type": "code",
   "execution_count": 1,
   "metadata": {},
   "outputs": [
    {
     "name": "stdout",
     "output_type": "stream",
     "text": [
      "0\n",
      "1\n",
      "2\n",
      "3\n",
      "4\n"
     ]
    }
   ],
   "source": [
    "import sys\n",
    "\n",
    "class Iter:\n",
    "    def __init__(self,n):\n",
    "        self.n = n # Assigning value of iteration\n",
    "    \n",
    "    def __iter__(self):\n",
    "        self.current = -1\n",
    "        return(self)\n",
    "    \n",
    "    def __next__(self):\n",
    "        self.current += 1 # Increment the current iteration by one\n",
    "\n",
    "        if self.current >= self.n:\n",
    "            raise StopIteration\n",
    "        \n",
    "        return self.current\n",
    "    \n",
    "x = Iter(5)\n",
    "\n",
    "for i in x:\n",
    "    print(i)\n",
    "\n",
    "    "
   ]
  }
 ],
 "metadata": {
  "kernelspec": {
   "display_name": "Python 3",
   "language": "python",
   "name": "python3"
  },
  "language_info": {
   "codemirror_mode": {
    "name": "ipython",
    "version": 3
   },
   "file_extension": ".py",
   "mimetype": "text/x-python",
   "name": "python",
   "nbconvert_exporter": "python",
   "pygments_lexer": "ipython3",
   "version": "3.8.9"
  },
  "orig_nbformat": 4
 },
 "nbformat": 4,
 "nbformat_minor": 2
}
